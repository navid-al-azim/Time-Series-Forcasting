{
 "cells": [
  {
   "cell_type": "markdown",
   "id": "d3ddc006",
   "metadata": {},
   "source": [
    "**Resample and Interpolate Time Series Data**"
   ]
  },
  {
   "cell_type": "code",
   "execution_count": 43,
   "id": "30735e87",
   "metadata": {},
   "outputs": [
    {
     "name": "stderr",
     "output_type": "stream",
     "text": [
      "<ipython-input-43-c4af8c81085f>:4: FutureWarning: The pandas.datetime class is deprecated and will be removed from pandas in a future version. Import from datetime module instead.\n",
      "  from pandas import datetime\n"
     ]
    }
   ],
   "source": [
    "import pandas as pd\n",
    "import numpy as np\n",
    "import matplotlib.pyplot as plt\n",
    "from pandas import datetime"
   ]
  },
  {
   "cell_type": "code",
   "execution_count": 16,
   "id": "710c09fa",
   "metadata": {},
   "outputs": [],
   "source": [
    "def parser(x):\n",
    "    return datetime.strptime('190' + x, '%Y-%m')"
   ]
  },
  {
   "cell_type": "code",
   "execution_count": 17,
   "id": "884044e5",
   "metadata": {},
   "outputs": [
    {
     "name": "stdout",
     "output_type": "stream",
     "text": [
      "Month\n",
      "1901-01-01    266.0\n",
      "1901-02-01    145.9\n",
      "1901-03-01    183.1\n",
      "1901-04-01    119.3\n",
      "1901-05-01    180.3\n",
      "1901-06-01    168.5\n",
      "1901-07-01    231.8\n",
      "1901-08-01    224.5\n",
      "1901-09-01    192.8\n",
      "1901-10-01    122.9\n",
      "1901-11-01    336.5\n",
      "1901-12-01    185.9\n",
      "1902-01-01    194.3\n",
      "1902-02-01    149.5\n",
      "1902-03-01    210.1\n",
      "1902-04-01    273.3\n",
      "1902-05-01    191.4\n",
      "1902-06-01    287.0\n",
      "1902-07-01    226.0\n",
      "1902-08-01    303.6\n",
      "Name: Sales, dtype: float64\n"
     ]
    }
   ],
   "source": [
    "url = 'https://raw.githubusercontent.com/jbrownlee/Datasets/master/shampoo.csv'\n",
    "data = pd.read_csv(url, header = 0, index_col = 0, parse_dates = [0], squeeze = True, date_parser= parser)\n",
    "print(data.head(20))"
   ]
  },
  {
   "cell_type": "code",
   "execution_count": 18,
   "id": "7cf10554",
   "metadata": {},
   "outputs": [
    {
     "data": {
      "image/png": "[encoded data removed]",
      "text/plain": [
       "<Figure size 432x288 with 1 Axes>"
      ]
     },
     "metadata": {
      "needs_background": "light"
     },
     "output_type": "display_data"
    }
   ],
   "source": [
    "data.plot()\n",
    "plt.show()"
   ]
  },
  {
   "cell_type": "code",
   "execution_count": 42,
   "id": "3808b01f",
   "metadata": {},
   "outputs": [
    {
     "data": {
      "text/plain": [
       "<pandas.core.resample.DatetimeIndexResampler object at 0x0000019347195CA0>"
      ]
     },
     "execution_count": 42,
     "metadata": {},
     "output_type": "execute_result"
    }
   ],
   "source": [
    "resamp = data.resample('D')\n",
    "resamp"
   ]
  },
  {
   "cell_type": "code",
   "execution_count": 40,
   "id": "d808df49",
   "metadata": {},
   "outputs": [
    {
     "data": {
      "text/plain": [
       "Month\n",
       "1901-01-01    266.000000\n",
       "1901-01-02    262.125806\n",
       "1901-01-03    258.251613\n",
       "1901-01-04    254.377419\n",
       "1901-01-05    250.503226\n",
       "1901-01-06    246.629032\n",
       "1901-01-07    242.754839\n",
       "1901-01-08    238.880645\n",
       "1901-01-09    235.006452\n",
       "1901-01-10    231.132258\n",
       "1901-01-11    227.258065\n",
       "1901-01-12    223.383871\n",
       "1901-01-13    219.509677\n",
       "1901-01-14    215.635484\n",
       "1901-01-15    211.761290\n",
       "1901-01-16    207.887097\n",
       "1901-01-17    204.012903\n",
       "1901-01-18    200.138710\n",
       "1901-01-19    196.264516\n",
       "1901-01-20    192.390323\n",
       "1901-01-21    188.516129\n",
       "1901-01-22    184.641935\n",
       "1901-01-23    180.767742\n",
       "1901-01-24    176.893548\n",
       "1901-01-25    173.019355\n",
       "1901-01-26    169.145161\n",
       "1901-01-27    165.270968\n",
       "1901-01-28    161.396774\n",
       "1901-01-29    157.522581\n",
       "1901-01-30    153.648387\n",
       "1901-01-31    149.774194\n",
       "1901-02-01    145.900000\n",
       "Freq: D, Name: Sales, dtype: float64"
      ]
     },
     "execution_count": 40,
     "metadata": {},
     "output_type": "execute_result"
    }
   ],
   "source": [
    "interpol = resamp.interpolate(method='linear')\n",
    "interpol.head(32)"
   ]
  },
  {
   "cell_type": "code",
   "execution_count": null,
   "id": "a09cd8c3",
   "metadata": {},
   "outputs": [],
   "source": []
  }
 ],
 "metadata": {
  "kernelspec": {
   "display_name": "Python 3",
   "language": "python",
   "name": "python3"
  },
  "language_info": {
   "codemirror_mode": {
    "name": "ipython",
    "version": 3
   },
   "file_extension": ".py",
   "mimetype": "text/x-python",
   "name": "python",
   "nbconvert_exporter": "python",
   "pygments_lexer": "ipython3",
   "version": "3.8.8"
  }
 },
 "nbformat": 4,
 "nbformat_minor": 5
}
