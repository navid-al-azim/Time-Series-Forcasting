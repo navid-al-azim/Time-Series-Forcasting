{
 "cells": [
  {
   "cell_type": "markdown",
   "id": "78f934d2",
   "metadata": {},
   "source": [
    "**Normalizing Data in Time Series**"
   ]
  },
  {
   "cell_type": "code",
   "execution_count": 19,
   "id": "73d0689d",
   "metadata": {},
   "outputs": [],
   "source": [
    "import pandas as pd \n",
    "import numpy as np"
   ]
  },
  {
   "cell_type": "code",
   "execution_count": 2,
   "id": "090cd1f1",
   "metadata": {},
   "outputs": [],
   "source": [
    "url = 'https://raw.githubusercontent.com/jbrownlee/Datasets/master/daily-min-temperatures.csv'\n",
    "data = pd.read_csv(url, header = 0, index_col = 0, parse_dates= True)"
   ]
  },
  {
   "cell_type": "code",
   "execution_count": 3,
   "id": "875071c5",
   "metadata": {},
   "outputs": [
    {
     "data": {
      "text/html": [
       "<div>\n",
       "<style scoped>\n",
       "    .dataframe tbody tr th:only-of-type {\n",
       "        vertical-align: middle;\n",
       "    }\n",
       "\n",
       "    .dataframe tbody tr th {\n",
       "        vertical-align: top;\n",
       "    }\n",
       "\n",
       "    .dataframe thead th {\n",
       "        text-align: right;\n",
       "    }\n",
       "</style>\n",
       "<table border=\"1\" class=\"dataframe\">\n",
       "  <thead>\n",
       "    <tr style=\"text-align: right;\">\n",
       "      <th></th>\n",
       "      <th>Temp</th>\n",
       "    </tr>\n",
       "    <tr>\n",
       "      <th>Date</th>\n",
       "      <th></th>\n",
       "    </tr>\n",
       "  </thead>\n",
       "  <tbody>\n",
       "    <tr>\n",
       "      <th>1981-01-01</th>\n",
       "      <td>20.7</td>\n",
       "    </tr>\n",
       "    <tr>\n",
       "      <th>1981-01-02</th>\n",
       "      <td>17.9</td>\n",
       "    </tr>\n",
       "    <tr>\n",
       "      <th>1981-01-03</th>\n",
       "      <td>18.8</td>\n",
       "    </tr>\n",
       "    <tr>\n",
       "      <th>1981-01-04</th>\n",
       "      <td>14.6</td>\n",
       "    </tr>\n",
       "    <tr>\n",
       "      <th>1981-01-05</th>\n",
       "      <td>15.8</td>\n",
       "    </tr>\n",
       "  </tbody>\n",
       "</table>\n",
       "</div>"
      ],
      "text/plain": [
       "            Temp\n",
       "Date            \n",
       "1981-01-01  20.7\n",
       "1981-01-02  17.9\n",
       "1981-01-03  18.8\n",
       "1981-01-04  14.6\n",
       "1981-01-05  15.8"
      ]
     },
     "execution_count": 3,
     "metadata": {},
     "output_type": "execute_result"
    }
   ],
   "source": [
    "data.head()"
   ]
  },
  {
   "cell_type": "code",
   "execution_count": 4,
   "id": "e5f47201",
   "metadata": {},
   "outputs": [],
   "source": [
    "from sklearn.preprocessing import MinMaxScaler as mms"
   ]
  },
  {
   "cell_type": "code",
   "execution_count": 6,
   "id": "4ac4faef",
   "metadata": {},
   "outputs": [
    {
     "data": {
      "text/plain": [
       "array([[20.7],\n",
       "       [17.9],\n",
       "       [18.8],\n",
       "       ...,\n",
       "       [13.5],\n",
       "       [15.7],\n",
       "       [13. ]])"
      ]
     },
     "execution_count": 6,
     "metadata": {},
     "output_type": "execute_result"
    }
   ],
   "source": [
    "values = data.values\n",
    "values"
   ]
  },
  {
   "cell_type": "code",
   "execution_count": 7,
   "id": "7e846520",
   "metadata": {},
   "outputs": [],
   "source": [
    "values = values.reshape(len(values),1)"
   ]
  },
  {
   "cell_type": "code",
   "execution_count": 8,
   "id": "2c9590a9",
   "metadata": {},
   "outputs": [
    {
     "data": {
      "text/plain": [
       "array([[20.7],\n",
       "       [17.9],\n",
       "       [18.8],\n",
       "       ...,\n",
       "       [13.5],\n",
       "       [15.7],\n",
       "       [13. ]])"
      ]
     },
     "execution_count": 8,
     "metadata": {},
     "output_type": "execute_result"
    }
   ],
   "source": [
    "values"
   ]
  },
  {
   "cell_type": "code",
   "execution_count": 9,
   "id": "fabfdded",
   "metadata": {},
   "outputs": [],
   "source": [
    "scaler = mms()"
   ]
  },
  {
   "cell_type": "code",
   "execution_count": 17,
   "id": "168f8f55",
   "metadata": {},
   "outputs": [],
   "source": [
    "norm = scaler.fit_transform(values)\n",
    "prev = scaler.inverse_transform(norm)"
   ]
  },
  {
   "cell_type": "code",
   "execution_count": 18,
   "id": "bb2d73e9",
   "metadata": {},
   "outputs": [
    {
     "name": "stdout",
     "output_type": "stream",
     "text": [
      "            Temp\n",
      "Date            \n",
      "1981-01-01  20.7\n",
      "1981-01-02  17.9\n",
      "1981-01-03  18.8\n",
      "1981-01-04  14.6\n",
      "1981-01-05  15.8\n",
      "\n",
      "****************************************************************************************************\n",
      "\n",
      "Min and Max Values: \n",
      "Max: [26.3] Min: [0.]\n",
      "\n",
      "****************************************************************************************************\n",
      "\n",
      "Values Before Normalizing:\n",
      "\n",
      "[20.7]\n",
      "[17.9]\n",
      "[18.8]\n",
      "[14.6]\n",
      "[15.8]\n",
      "\n",
      "****************************************************************************************************\n",
      "\n",
      "Normalized Values: \n",
      "\n",
      "[0.78707224]\n",
      "[0.68060837]\n",
      "[0.7148289]\n",
      "[0.55513308]\n",
      "[0.60076046]\n"
     ]
    }
   ],
   "source": [
    "print(data.head())\n",
    "print()\n",
    "print('*'*100)\n",
    "print()\n",
    "print('Min and Max Values: ')\n",
    "print('Max: '+str(scaler.data_max_)+' '+'Min: '+str(scaler.data_min_))\n",
    "print()\n",
    "print('*'*100)\n",
    "print()\n",
    "print('Values Before Normalizing:')\n",
    "print()\n",
    "for i in range(5):\n",
    "    print(prev[i])\n",
    "print()\n",
    "print('*'*100)\n",
    "print()\n",
    "print('Normalized Values: ')\n",
    "print()\n",
    "for i in range(5):\n",
    "    print(norm[i])"
   ]
  },
  {
   "cell_type": "code",
   "execution_count": null,
   "id": "bbce64f2",
   "metadata": {},
   "outputs": [],
   "source": []
  }
 ],
 "metadata": {
  "kernelspec": {
   "display_name": "Python 3",
   "language": "python",
   "name": "python3"
  },
  "language_info": {
   "codemirror_mode": {
    "name": "ipython",
    "version": 3
   },
   "file_extension": ".py",
   "mimetype": "text/x-python",
   "name": "python",
   "nbconvert_exporter": "python",
   "pygments_lexer": "ipython3",
   "version": "3.8.8"
  }
 },
 "nbformat": 4,
 "nbformat_minor": 5
}
