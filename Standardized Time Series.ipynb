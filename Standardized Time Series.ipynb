{
 "cells": [
  {
   "cell_type": "markdown",
   "id": "0ec88b6b",
   "metadata": {},
   "source": [
    "**Standardizing Time Series Data**"
   ]
  },
  {
   "cell_type": "code",
   "execution_count": 2,
   "id": "7fd44951",
   "metadata": {},
   "outputs": [],
   "source": [
    "import pandas as pd\n",
    "import numpy as np"
   ]
  },
  {
   "cell_type": "code",
   "execution_count": 5,
   "id": "a76f050f",
   "metadata": {},
   "outputs": [
    {
     "data": {
      "text/html": [
       "<div>\n",
       "<style scoped>\n",
       "    .dataframe tbody tr th:only-of-type {\n",
       "        vertical-align: middle;\n",
       "    }\n",
       "\n",
       "    .dataframe tbody tr th {\n",
       "        vertical-align: top;\n",
       "    }\n",
       "\n",
       "    .dataframe thead th {\n",
       "        text-align: right;\n",
       "    }\n",
       "</style>\n",
       "<table border=\"1\" class=\"dataframe\">\n",
       "  <thead>\n",
       "    <tr style=\"text-align: right;\">\n",
       "      <th></th>\n",
       "      <th>Temp</th>\n",
       "    </tr>\n",
       "    <tr>\n",
       "      <th>Date</th>\n",
       "      <th></th>\n",
       "    </tr>\n",
       "  </thead>\n",
       "  <tbody>\n",
       "    <tr>\n",
       "      <th>1981-01-01</th>\n",
       "      <td>20.7</td>\n",
       "    </tr>\n",
       "    <tr>\n",
       "      <th>1981-01-02</th>\n",
       "      <td>17.9</td>\n",
       "    </tr>\n",
       "    <tr>\n",
       "      <th>1981-01-03</th>\n",
       "      <td>18.8</td>\n",
       "    </tr>\n",
       "    <tr>\n",
       "      <th>1981-01-04</th>\n",
       "      <td>14.6</td>\n",
       "    </tr>\n",
       "    <tr>\n",
       "      <th>1981-01-05</th>\n",
       "      <td>15.8</td>\n",
       "    </tr>\n",
       "    <tr>\n",
       "      <th>1981-01-06</th>\n",
       "      <td>15.8</td>\n",
       "    </tr>\n",
       "    <tr>\n",
       "      <th>1981-01-07</th>\n",
       "      <td>15.8</td>\n",
       "    </tr>\n",
       "    <tr>\n",
       "      <th>1981-01-08</th>\n",
       "      <td>17.4</td>\n",
       "    </tr>\n",
       "    <tr>\n",
       "      <th>1981-01-09</th>\n",
       "      <td>21.8</td>\n",
       "    </tr>\n",
       "    <tr>\n",
       "      <th>1981-01-10</th>\n",
       "      <td>20.0</td>\n",
       "    </tr>\n",
       "  </tbody>\n",
       "</table>\n",
       "</div>"
      ],
      "text/plain": [
       "            Temp\n",
       "Date            \n",
       "1981-01-01  20.7\n",
       "1981-01-02  17.9\n",
       "1981-01-03  18.8\n",
       "1981-01-04  14.6\n",
       "1981-01-05  15.8\n",
       "1981-01-06  15.8\n",
       "1981-01-07  15.8\n",
       "1981-01-08  17.4\n",
       "1981-01-09  21.8\n",
       "1981-01-10  20.0"
      ]
     },
     "execution_count": 5,
     "metadata": {},
     "output_type": "execute_result"
    }
   ],
   "source": [
    "url = 'https://raw.githubusercontent.com/jbrownlee/Datasets/master/daily-min-temperatures.csv'\n",
    "data = pd.read_csv(url, index_col = 0, parse_dates = True)\n",
    "data.head(10)"
   ]
  },
  {
   "cell_type": "code",
   "execution_count": 7,
   "id": "1b6157c6",
   "metadata": {},
   "outputs": [
    {
     "data": {
      "text/plain": [
       "array([[20.7],\n",
       "       [17.9],\n",
       "       [18.8],\n",
       "       ...,\n",
       "       [13.5],\n",
       "       [15.7],\n",
       "       [13. ]])"
      ]
     },
     "execution_count": 7,
     "metadata": {},
     "output_type": "execute_result"
    }
   ],
   "source": [
    "values = data.values\n",
    "values"
   ]
  },
  {
   "cell_type": "code",
   "execution_count": 8,
   "id": "5d1daeed",
   "metadata": {},
   "outputs": [],
   "source": [
    "values = values.reshape(len(values) , 1)"
   ]
  },
  {
   "cell_type": "code",
   "execution_count": 9,
   "id": "4d3f51df",
   "metadata": {},
   "outputs": [],
   "source": [
    "from sklearn.preprocessing import StandardScaler as ss"
   ]
  },
  {
   "cell_type": "code",
   "execution_count": 10,
   "id": "0153f22b",
   "metadata": {},
   "outputs": [],
   "source": [
    "scaler = ss()\n",
    "stand = scaler.fit_transform(values)\n",
    "prev = scaler.inverse_transform(stand)"
   ]
  },
  {
   "cell_type": "code",
   "execution_count": 15,
   "id": "0362793a",
   "metadata": {},
   "outputs": [
    {
     "name": "stdout",
     "output_type": "stream",
     "text": [
      "            Temp\n",
      "Date            \n",
      "1981-01-01  20.7\n",
      "1981-01-02  17.9\n",
      "1981-01-03  18.8\n",
      "1981-01-04  14.6\n",
      "1981-01-05  15.8\n",
      "\n",
      "****************************************************************************************************\n",
      "\n",
      "Mean and Standard Deviation Values: \n",
      "Mean: 11.177753424657535 Standard Deviation: 4.071279075310806\n",
      "\n",
      "****************************************************************************************************\n",
      "\n",
      "Values Before Standardizing:\n",
      "\n",
      "[20.7]\n",
      "[17.9]\n",
      "[18.8]\n",
      "[14.6]\n",
      "[15.8]\n",
      "\n",
      "****************************************************************************************************\n",
      "\n",
      "Standardized Values: \n",
      "\n",
      "[2.33888328]\n",
      "[1.65113873]\n",
      "[1.87219948]\n",
      "[0.84058266]\n",
      "[1.13533032]\n"
     ]
    }
   ],
   "source": [
    "print(data.head())\n",
    "print()\n",
    "print('*'*100)\n",
    "print()\n",
    "print('Mean and Standard Deviation Values: ')\n",
    "print('Mean: '+str(values.mean())+' '+'Standard Deviation: '+str(values.std()))\n",
    "print()\n",
    "print('*'*100)\n",
    "print()\n",
    "print('Values Before Standardizing:')\n",
    "print()\n",
    "for i in range(5):\n",
    "    print(prev[i])\n",
    "print()\n",
    "print('*'*100)\n",
    "print()\n",
    "print('Standardized Values: ')\n",
    "print()\n",
    "for i in range(5):\n",
    "    print(stand[i])"
   ]
  },
  {
   "cell_type": "code",
   "execution_count": null,
   "id": "7fef0a4f",
   "metadata": {},
   "outputs": [],
   "source": []
  }
 ],
 "metadata": {
  "kernelspec": {
   "display_name": "Python 3",
   "language": "python",
   "name": "python3"
  },
  "language_info": {
   "codemirror_mode": {
    "name": "ipython",
    "version": 3
   },
   "file_extension": ".py",
   "mimetype": "text/x-python",
   "name": "python",
   "nbconvert_exporter": "python",
   "pygments_lexer": "ipython3",
   "version": "3.8.8"
  }
 },
 "nbformat": 4,
 "nbformat_minor": 5
}
